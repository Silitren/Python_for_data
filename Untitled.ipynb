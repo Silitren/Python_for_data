{
 "cells": [
  {
   "cell_type": "code",
   "execution_count": null,
   "id": "8abd8568",
   "metadata": {},
   "outputs": [],
   "source": [
    "# Lesson_2_Numpy"
   ]
  },
  {
   "cell_type": "code",
   "execution_count": null,
   "id": "533abae1",
   "metadata": {},
   "outputs": [],
   "source": [
    "# Home_task_1"
   ]
  },
  {
   "cell_type": "code",
   "execution_count": 1,
   "id": "e5245947",
   "metadata": {},
   "outputs": [],
   "source": [
    "import numpy as np"
   ]
  },
  {
   "cell_type": "code",
   "execution_count": 9,
   "id": "f9601cf3",
   "metadata": {},
   "outputs": [],
   "source": [
    "a = np.array ([[1, 6],\n",
    "               [2, 8],\n",
    "               [3, 11],\n",
    "               [3, 10],\n",
    "               [1, 7]])"
   ]
  },
  {
   "cell_type": "code",
   "execution_count": 10,
   "id": "deb5de46",
   "metadata": {},
   "outputs": [
    {
     "data": {
      "text/plain": [
       "array([[ 1,  6],\n",
       "       [ 2,  8],\n",
       "       [ 3, 11],\n",
       "       [ 3, 10],\n",
       "       [ 1,  7]])"
      ]
     },
     "execution_count": 10,
     "metadata": {},
     "output_type": "execute_result"
    }
   ],
   "source": [
    "a"
   ]
  },
  {
   "cell_type": "code",
   "execution_count": 13,
   "id": "9f854844",
   "metadata": {},
   "outputs": [],
   "source": [
    "mean_a = np.mean (a, axis = 0)"
   ]
  },
  {
   "cell_type": "code",
   "execution_count": 14,
   "id": "06986291",
   "metadata": {},
   "outputs": [
    {
     "data": {
      "text/plain": [
       "array([2. , 8.4])"
      ]
     },
     "execution_count": 14,
     "metadata": {},
     "output_type": "execute_result"
    }
   ],
   "source": [
    "mean_a"
   ]
  },
  {
   "cell_type": "code",
   "execution_count": null,
   "id": "68a4cdb5",
   "metadata": {},
   "outputs": [],
   "source": [
    "# Home_task_2"
   ]
  },
  {
   "cell_type": "code",
   "execution_count": 28,
   "id": "b79ebbe0",
   "metadata": {},
   "outputs": [],
   "source": [
    "a_centered = a - mean_a"
   ]
  },
  {
   "cell_type": "code",
   "execution_count": 34,
   "id": "c39fe2d2",
   "metadata": {},
   "outputs": [
    {
     "data": {
      "text/plain": [
       "array([[-1. , -2.4],\n",
       "       [ 0. , -0.4],\n",
       "       [ 1. ,  2.6],\n",
       "       [ 1. ,  1.6],\n",
       "       [-1. , -1.4]])"
      ]
     },
     "execution_count": 34,
     "metadata": {},
     "output_type": "execute_result"
    }
   ],
   "source": [
    "a_centered"
   ]
  },
  {
   "cell_type": "code",
   "execution_count": 35,
   "id": "7ae0ec1f",
   "metadata": {},
   "outputs": [],
   "source": [
    "# Home_task_3"
   ]
  },
  {
   "cell_type": "code",
   "execution_count": 55,
   "id": "001d543a",
   "metadata": {},
   "outputs": [],
   "source": [
    "a_centered_sp = (np.dot(a_centered[:,0], a_centered[:,1])) / (a_centered.shape[0] - 1)"
   ]
  },
  {
   "cell_type": "code",
   "execution_count": 56,
   "id": "60c127a0",
   "metadata": {},
   "outputs": [
    {
     "data": {
      "text/plain": [
       "2.0"
      ]
     },
     "execution_count": 56,
     "metadata": {},
     "output_type": "execute_result"
    }
   ],
   "source": [
    "a_centered_sp"
   ]
  },
  {
   "cell_type": "code",
   "execution_count": null,
   "id": "13b34db2",
   "metadata": {},
   "outputs": [],
   "source": [
    "# Home_task_4"
   ]
  },
  {
   "cell_type": "code",
   "execution_count": null,
   "id": "2587cf86",
   "metadata": {},
   "outputs": [],
   "source": []
  }
 ],
 "metadata": {
  "kernelspec": {
   "display_name": "Python 3 (ipykernel)",
   "language": "python",
   "name": "python3"
  },
  "language_info": {
   "codemirror_mode": {
    "name": "ipython",
    "version": 3
   },
   "file_extension": ".py",
   "mimetype": "text/x-python",
   "name": "python",
   "nbconvert_exporter": "python",
   "pygments_lexer": "ipython3",
   "version": "3.9.6"
  }
 },
 "nbformat": 4,
 "nbformat_minor": 5
}
